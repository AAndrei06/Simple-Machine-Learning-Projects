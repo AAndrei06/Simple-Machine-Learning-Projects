{
 "cells": [
  {
   "cell_type": "code",
   "execution_count": 1,
   "id": "9a9bcf66-5b97-40a6-bbda-972a5b816e3a",
   "metadata": {},
   "outputs": [],
   "source": [
    "import pandas as pd\n",
    "import numpy as np\n",
    "from sklearn.tree import DecisionTreeClassifier\n",
    "from sklearn.metrics import confusion_matrix\n",
    "from sklearn.model_selection import train_test_split\n",
    "from sklearn.metrics import accuracy_score, precision_score, recall_score, f1_score\n",
    "data = pd.read_csv('diabetes_dataset.csv')"
   ]
  },
  {
   "cell_type": "code",
   "execution_count": 2,
   "id": "3eb81808-ba40-4ed5-8e2e-dda7e7655ea6",
   "metadata": {},
   "outputs": [],
   "source": [
    "X = data.drop('Outcome',axis = 1)\n",
    "Y = data.Outcome\n",
    "labels = ['No Diabetes','Diabetes']"
   ]
  },
  {
   "cell_type": "code",
   "execution_count": 3,
   "id": "247f222b-aa07-43b6-b5a9-0191279f4461",
   "metadata": {},
   "outputs": [
    {
     "data": {
      "text/plain": [
       "\"\\nx_train, x_test, y_train, y_test = train_test_split(X,Y,test_size = 0.3)\\nmodel.fit(x_train,y_train)\\ny_pred = model.predict(x_test)\\nprint(f'Accuracy: {accuracy_score(y_test,y_pred)*100:.2f} %')\\nprint(f'Precision: {precision_score(y_test,y_pred)*100:.2f} %')\\nprint(f'Recall: {recall_score(y_test,y_pred)*100:.2f} %')\\nprint(f'F1: {f1_score(y_test,y_pred)*100:.2f} %')\\nconfusion_matrix(y_test,y_pred)\\n#labels[model.predict(np.array([1,80,80,80,80,80,80,80]).reshape(1,-1))[0]]\\n\""
      ]
     },
     "execution_count": 3,
     "metadata": {},
     "output_type": "execute_result"
    }
   ],
   "source": [
    "'''\n",
    "x_train, x_test, y_train, y_test = train_test_split(X,Y,test_size = 0.3)\n",
    "model.fit(x_train,y_train)\n",
    "y_pred = model.predict(x_test)\n",
    "print(f'Accuracy: {accuracy_score(y_test,y_pred)*100:.2f} %')\n",
    "print(f'Precision: {precision_score(y_test,y_pred)*100:.2f} %')\n",
    "print(f'Recall: {recall_score(y_test,y_pred)*100:.2f} %')\n",
    "print(f'F1: {f1_score(y_test,y_pred)*100:.2f} %')\n",
    "confusion_matrix(y_test,y_pred)\n",
    "#labels[model.predict(np.array([1,80,80,80,80,80,80,80]).reshape(1,-1))[0]]\n",
    "'''"
   ]
  },
  {
   "cell_type": "code",
   "execution_count": 4,
   "id": "29ec161c-8665-46a9-a92c-afa448246c03",
   "metadata": {},
   "outputs": [
    {
     "name": "stderr",
     "output_type": "stream",
     "text": [
      "/home/andrei/.local/lib/python3.10/site-packages/sklearn/base.py:493: UserWarning: X does not have valid feature names, but DecisionTreeClassifier was fitted with feature names\n",
      "  warnings.warn(\n"
     ]
    },
    {
     "data": {
      "text/plain": [
       "'Diabetes'"
      ]
     },
     "execution_count": 4,
     "metadata": {},
     "output_type": "execute_result"
    }
   ],
   "source": [
    "model = DecisionTreeClassifier(criterion = 'entropy')\n",
    "model.fit(X,Y)\n",
    "labels[model.predict(np.array([80,80,80,80,80,80,80,80]).reshape(1,-1))[0]]"
   ]
  }
 ],
 "metadata": {
  "kernelspec": {
   "display_name": "Python 3 (ipykernel)",
   "language": "python",
   "name": "python3"
  },
  "language_info": {
   "codemirror_mode": {
    "name": "ipython",
    "version": 3
   },
   "file_extension": ".py",
   "mimetype": "text/x-python",
   "name": "python",
   "nbconvert_exporter": "python",
   "pygments_lexer": "ipython3",
   "version": "3.10.12"
  }
 },
 "nbformat": 4,
 "nbformat_minor": 5
}
