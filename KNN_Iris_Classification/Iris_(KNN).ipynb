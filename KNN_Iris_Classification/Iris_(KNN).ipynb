{
 "cells": [
  {
   "cell_type": "code",
   "execution_count": 1,
   "id": "24bb9b05-6fd2-428b-a441-7f72216dfd03",
   "metadata": {},
   "outputs": [],
   "source": [
    "from sklearn.datasets import load_iris\n",
    "import numpy as np\n",
    "from sklearn.neighbors import KNeighborsClassifier\n",
    "from sklearn.model_selection import GridSearchCV\n",
    "from sklearn.metrics import make_scorer, precision_score, recall_score\n",
    "from sklearn.model_selection import train_test_split"
   ]
  },
  {
   "cell_type": "code",
   "execution_count": 2,
   "id": "7b29dae4-6bfa-4aa4-aba9-7f6250a32c2f",
   "metadata": {},
   "outputs": [],
   "source": [
    "data = load_iris()"
   ]
  },
  {
   "cell_type": "code",
   "execution_count": 3,
   "id": "0b0a7776-7713-4d44-80ee-47cbdf0ad10f",
   "metadata": {
    "scrolled": true
   },
   "outputs": [
    {
     "name": "stdout",
     "output_type": "stream",
     "text": [
      "setosa\n"
     ]
    }
   ],
   "source": [
    "'''\n",
    "param_grid = [{\n",
    "    \"n_neighbors\":[1,2,3,4,5,6,7]\n",
    "}]\n",
    "model = KNeighborsClassifier()\n",
    "grid = GridSearchCV(\n",
    "    model,\n",
    "    param_grid,\n",
    "    cv=5,\n",
    "    scoring='accuracy',\n",
    "    refit=\"precision\",\n",
    "    return_train_score=True,\n",
    "    verbose=10,\n",
    "    n_jobs=-1\n",
    "    )\n",
    "\n",
    "grid.fit(data.data,data.target)\n",
    "'''\n",
    "#x_train, x_test, y_train, y_test = train_test_split(data.data,data.target,test_size = 0.2)\n",
    "\n",
    "model = KNeighborsClassifier(n_neighbors = 7)\n",
    "model.fit(data.data,data.target)\n",
    "#model.score(x_test,y_test)\n",
    "print(data.target_names[model.predict(np.array([[1.67],[1.45],[1.8],[1.8]]).reshape(1,-1))[0]])"
   ]
  }
 ],
 "metadata": {
  "kernelspec": {
   "display_name": "Python 3 (ipykernel)",
   "language": "python",
   "name": "python3"
  },
  "language_info": {
   "codemirror_mode": {
    "name": "ipython",
    "version": 3
   },
   "file_extension": ".py",
   "mimetype": "text/x-python",
   "name": "python",
   "nbconvert_exporter": "python",
   "pygments_lexer": "ipython3",
   "version": "3.10.12"
  }
 },
 "nbformat": 4,
 "nbformat_minor": 5
}
